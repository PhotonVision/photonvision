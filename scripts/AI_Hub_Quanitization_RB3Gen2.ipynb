{
  "cells": [
    {
      "cell_type": "markdown",
      "metadata": {
        "id": "L-D9dgnL4c-Q"
      },
      "source": [
        "## YOLO to Rubik TFlite Conversion\n",
        "This notebook can be run on colab.\n",
        "\n",
        "Prior to running the notebook, it is necessary to make an account on [Qualcomm's AI Hub](https://app.aihub.qualcomm.com/account/), and obtain your API key.\n",
        "\n",
        "You should also have a PyTorch model (ending in `.pt`) that's been uploaded to the runtime that you intend to convert.\n",
        "\n",
        "Please note that your API key will be listed in the output, and should therefore be redacted if the output is shared."
      ]
    },
    {
      "cell_type": "code",
      "execution_count": null,
      "metadata": {
        "colab": {
          "base_uri": "https://localhost:8080/",
          "height": 1000
        },
        "id": "4id9hP_l4c-R",
        "outputId": "2da3e1de-3376-496a-e508-8d45e9b3038b"
      },
      "outputs": [],
      "source": [
        "AIHUB_API_KEY = \"hplrp9s6eecuvvk8vvu7ngsgdwe62n7ofn0svw7b\"\n",
        "PATH_TO_WEIGHTS = \"/content/best.pt\"\n",
        "# Options are yolov8, yolov11\n",
        "YOLO_VERSION = \"yolov11\"\n",
        "# This installs Python package\n",
        "!pip install \"qai-hub-models[{YOLO_VERSION}-det-quantized]\"\n",
        "!pip install fiftyone\n",
        "!pip install ultralytics\n",
        "# sets up AI Hub enviroment\n",
        "!qai-hub configure --api_token {AIHUB_API_KEY}\n",
        "\n",
        "# Converts the model to be ran on RB3Gen2\n",
        "!python -m \"qai_hub_models.models.{YOLO_VERSION}_det.export\" --quantize w8a8 --device=\"RB3 Gen 2 (Proxy)\" --ckpt-name {PATH_TO_WEIGHTS} --device-os linux --target-runtime tflite"
      ]
    }
  ],
  "metadata": {
    "colab": {
      "provenance": []
    },
    "kernelspec": {
      "display_name": "Python 3",
      "name": "python3"
    },
    "language_info": {
      "name": "python",
      "version": "3.11.7"
    }
  },
  "nbformat": 4,
  "nbformat_minor": 0
}
