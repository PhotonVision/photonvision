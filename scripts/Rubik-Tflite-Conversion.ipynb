{
 "cells": [
  {
   "cell_type": "markdown",
   "metadata": {},
   "source": [
    "## Convert PyTorch Model to Modified TFlite for Rubik Pi 3\n",
    "\n",
    "If you're running this notebook on google colab, you'll need to upload your model file to the colab environment. "
   ]
  },
  {
   "cell_type": "code",
   "execution_count": null,
   "metadata": {},
   "outputs": [],
   "source": [
    "# This installs Python package\n",
    "!pip install qai-hub-models[yolov8-det-quantized]\n",
    "# sets up AI Hub enviroment \n",
    "!qai-hub configure --api_token <YOUR_API_TOKEN>\n",
    "# Converts the model to be ran on RB3Gen2\n",
    "!python -m qai_hub_models.models.yolov8_det_quantized.export --device=\"RB3 Gen 2 (Proxy)\" --ckpt-name /YOUR/WEIGHTS/FILE\n"
   ]
  },
  {
   "cell_type": "markdown",
   "metadata": {},
   "source": [
    "To retrieve the quanatization parameters from the model the easiest way is the following:"
   ]
  },
  {
   "cell_type": "code",
   "execution_count": null,
   "metadata": {},
   "outputs": [],
   "source": [
    "import tensorflow as tf\n",
    "\n",
    "# Load the TFLite model\n",
    "interpreter = tf.lite.Interpreter(model_path=\"PATH_TO_FILE_FROM_AIHUB\")\n",
    "interpreter.allocate_tensors()\n",
    "\n",
    "# Get output tensor details\n",
    "output_details = interpreter.get_output_details()\n",
    "\n",
    "q_scales = []\n",
    "q_zero_points = []\n",
    "\n",
    "for output in output_details:\n",
    "    params = output['quantization_parameters']\n",
    "\n",
    "    # Check if the tensor is quantized\n",
    "    if output['quantization_parameters']['quantized_dimension'] == 0:  # Per-tensor quantization\n",
    "        scale = params['scales'][0] if params['scales'].size > 0 else 1.0\n",
    "        zero_point = params['zero_points'][0] if params['zero_points'].size > 0 else 0.0\n",
    "    else:\n",
    "        # Handle per-channel quantization (unlikely for YOLOv8)\n",
    "        scale = 1.0\n",
    "        zero_point = 0.0\n",
    "\n",
    "    q_scales.append(scale)\n",
    "    q_zero_points.append(float(zero_point))\n",
    "\n",
    "# Format the constants\n",
    "print(f'YOLOv8,q-offsets=<{\", \".join(map(str, q_zero_points))}>, q-scales=<{\", \".join(map(str, q_scales))}>')"
   ]
  },
  {
   "cell_type": "markdown",
   "metadata": {},
   "source": [
    "Modified from https://github.com/ramalamadingdong/yolo-rb3gen2-trainer/blob/main/AI_Hub_Quanitization_RB3Gen2.ipynb"
   ]
  }
 ],
 "metadata": {
  "kernelspec": {
   "display_name": "Python 3",
   "language": "python",
   "name": "python3"
  },
  "language_info": {
   "name": "python",
   "version": "3.11.7"
  }
 },
 "nbformat": 4,
 "nbformat_minor": 2
}
