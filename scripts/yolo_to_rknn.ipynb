{
  "cells": [
    {
      "cell_type": "markdown",
      "metadata": {
        "id": "578NGV7h3aNh"
      },
      "source": [
        "#YOLO to RKNN"
      ]
    },
    {
      "cell_type": "code",
      "execution_count": null,
      "metadata": {
        "id": "axJXpbXE3aNi"
      },
      "outputs": [],
      "source": [
        "PATH_TO_MODEL=\"PATH TO MODEL\"\n",
        "# Options are yolov5, yolov8, or yolo11\n",
        "YOLO_VERSION = \"yolov8\"\n",
        "\n",
        "root_path = '/content'\n",
        "%cd {root_path}\n",
        "import os\n",
        "root_path = os.getcwd()\n",
        "\n",
        "!git clone https://github.com/airockchip/ultralytics_{YOLO_VERSION}\n",
        "%cd ultralytics_{YOLO_VERSION}\n",
        "\n",
        "!pip install -e .\n",
        "\n",
        "from IPython import display\n",
        "display.clear_output()\n",
        "\n",
        "import ultralytics\n",
        "ultralytics.checks()"
      ]
    },
    {
      "cell_type": "markdown",
      "metadata": {
        "id": "aCc2dQtQ3aNl"
      },
      "source": [
        "### Install RKNN Toolkit 2\n",
        "\n",
        "Note: it may be necessary to download a different wheel depending on your python version."
      ]
    },
    {
      "cell_type": "code",
      "execution_count": null,
      "metadata": {
        "id": "6ElrnSYH3aNl"
      },
      "outputs": [],
      "source": [
        "!wget https://github.com/rockchip-linux/rknn-toolkit2/raw/1f4415eafe8f578787822fc836f38df3ef3b5627/rknn-toolkit2/packages/rknn_toolkit2-1.6.0+81f21f4d-cp311-cp311-linux_x86_64.whl\n",
        "!pip install rknn_toolkit2-1.6.0+81f21f4d-cp311-cp311-linux_x86_64.whl"
      ]
    },
    {
      "cell_type": "markdown",
      "metadata": {
        "id": "5kjkeL-k3aNl"
      },
      "source": [
        "## Export to ONNX\n",
        "This is an intermediate step between the PyTorch model and the RKNN model."
      ]
    },
    {
      "cell_type": "code",
      "execution_count": null,
      "metadata": {
        "id": "3S6xT1vJ3aNl"
      },
      "outputs": [],
      "source": [
        "%cd {root_path}\n",
        "!yolo mode=export format=rknn model={PATH_TO_MODEL}"
      ]
    },
    {
      "cell_type": "code",
      "execution_count": null,
      "metadata": {
        "id": "qEYZWCr43aNl"
      },
      "outputs": [],
      "source": [
        "%cd {root_path}\n",
        "!git clone https://github.com/airockchip/rknn_model_zoo/\n",
        "%cd rknn_model_zoo\n",
        "!git checkout bad6c73"
      ]
    },
    {
      "cell_type": "markdown",
      "metadata": {
        "id": "2Xo3XJaB3aNl"
      },
      "source": [
        "## Export to RKNN"
      ]
    },
    {
      "cell_type": "code",
      "execution_count": null,
      "metadata": {
        "id": "H13l4tVO3aNl"
      },
      "outputs": [],
      "source": [
        "%cd {root_path}/rknn_model_zoo/examples/{YOLO_VERSION}/python\n",
        "onnx_path = PATH_TO_MODEL.replace('.pt', '.onnx')\n",
        "!python convert.py {onnx_path} rk3588 i8 {root_path}/out.rknn"
      ]
    }
  ],
  "metadata": {
    "accelerator": "GPU",
    "colab": {
      "gpuType": "T4",
      "provenance": []
    },
    "kaggle": {
      "accelerator": "nvidiaTeslaT4",
      "dataSources": [],
      "isGpuEnabled": true,
      "isInternetEnabled": true,
      "language": "python",
      "sourceType": "notebook"
    },
    "kernelspec": {
      "display_name": "Python 3",
      "name": "python3"
    },
    "language_info": {
      "codemirror_mode": {
        "name": "ipython",
        "version": 3
      },
      "file_extension": ".py",
      "mimetype": "text/x-python",
      "name": "python",
      "nbconvert_exporter": "python",
      "pygments_lexer": "ipython3",
      "version": "3.10.12"
    }
  },
  "nbformat": 4,
  "nbformat_minor": 0
}
